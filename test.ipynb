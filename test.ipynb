{
 "cells": [
  {
   "cell_type": "code",
   "execution_count": 1,
   "metadata": {},
   "outputs": [
    {
     "name": "stdout",
     "output_type": "stream",
     "text": [
      "using device mps\n"
     ]
    }
   ],
   "source": [
    "import bem.Experiments as Exp\n",
    "import dlpm.dlpm_experiment as dlpm_exp\n",
    "from dlpm.NeptuneLogger import NeptuneLogger\n",
    "import importlib\n",
    "# importlib.reload(exp_utils)\n",
    "# importlib.reload(Exp)\n",
    "\n",
    "\n",
    "config_path = 'dlpm/configs/'\n",
    "config_file = '2d_data.yml'\n",
    "checkpoint_dir = 'models/tmp'\n",
    "\n",
    "# the ExpUtils class specifies how to hash the parameter dict, and what and how to initiliaze methods and models\n",
    "exp = Exp.Experiment(checkpoint_dir=checkpoint_dir, \n",
    "                     p=config_file, \n",
    "                     logger = None, \n",
    "                     config_path=config_path, \n",
    "                     exp_hash= dlpm_exp.exp_hash, \n",
    "                     eval_hash=None, # will use default function\n",
    "                     init_method_by_parameter= dlpm_exp.init_method_by_parameter, \n",
    "                     init_models_by_parameter= dlpm_exp.init_models_by_parameter, \n",
    "                     reset_models= dlpm_exp.reset_models)\n",
    "\n",
    "exp.utils.p['run']['epochs'] = 20\n",
    "exp.utils.p['run']['eval_freq'] = 10\n",
    "exp.utils.p['run']['checkpoint_freq'] = 10\n",
    "exp.utils.p['method'] = 'lim'\n",
    "exp.utils.p['eval']['data_to_generate'] = 1000\n",
    "exp.utils.p['eval'][exp.utils.p['method']]['reverse_steps'] = 100\n",
    "exp.prepare()"
   ]
  },
  {
   "cell_type": "code",
   "execution_count": 2,
   "metadata": {},
   "outputs": [
    {
     "name": "stdout",
     "output_type": "stream",
     "text": [
      "training model to epoch 20 from epoch 0 ...\n"
     ]
    },
    {
     "name": "stderr",
     "output_type": "stream",
     "text": [
      "/opt/homebrew/anaconda3/lib/python3.11/site-packages/torch/nn/_reduction.py:42: UserWarning: size_average and reduce args will be deprecated, please use reduction='mean' instead.\n",
      "  warnings.warn(warning.format(ret))\n"
     ]
    },
    {
     "name": "stdout",
     "output_type": "stream",
     "text": [
      "epoch_loss 0.13194072842597962\n",
      "Done training epoch 1/20\n",
      "epoch_loss 0.09405360370874405\n",
      "Done training epoch 2/20\n",
      "epoch_loss 0.08792206794023513\n",
      "Done training epoch 3/20\n",
      "epoch_loss 0.08145129084587097\n",
      "Done training epoch 4/20\n",
      "epoch_loss 0.07296008318662643\n",
      "Done training epoch 5/20\n",
      "epoch_loss 0.06688587069511413\n",
      "Done training epoch 6/20\n",
      "epoch_loss 0.06357248276472091\n",
      "Done training epoch 7/20\n",
      "epoch_loss 0.05975924134254455\n",
      "Done training epoch 8/20\n",
      "epoch_loss 0.05813933834433556\n",
      "Done training epoch 9/20\n",
      "epoch_loss 0.057253191620111464\n",
      "Done training epoch 10/20\n",
      "saved ('models/tmp/gmm_grid/model_043201be097ba679_10.pt', 'models/tmp/gmm_grid/parameters_043201be097ba679.pt', 'models/tmp/gmm_grid/eval_043201be097ba679.pt')\n",
      "evaluating model\n"
     ]
    },
    {
     "name": "stderr",
     "output_type": "stream",
     "text": [
      "100%|█████████████████████████████████████████████████████████████████████████████████████████████████████████████████████████████████████████| 100/100 [00:00<00:00, 206.55it/s]\n"
     ]
    },
    {
     "name": "stdout",
     "output_type": "stream",
     "text": [
      "wasserstein\n",
      "wasserstein: 1.5818603818809005\n",
      "\tlosses_batch = 0.05720600485801697\n",
      "\twass = 1.5818603818809005\n",
      "\tmmd = 0.39262932538986206\n",
      "\tprecision = 0.5946489265983189\n",
      "\trecall = 0.9527790391532097\n",
      "\tdensity = 0.0\n",
      "\tcoverage = 0.0\n",
      "\tfid = 0.0\n",
      "\tf_1_pr = 0.7322719318216174\n",
      "\tf_1_dc = 0.0\n",
      "\tfig = None\n"
     ]
    },
    {
     "name": "stderr",
     "output_type": "stream",
     "text": [
      "/opt/homebrew/anaconda3/lib/python3.11/site-packages/torch/nn/_reduction.py:42: UserWarning: size_average and reduce args will be deprecated, please use reduction='mean' instead.\n",
      "  warnings.warn(warning.format(ret))\n"
     ]
    },
    {
     "name": "stdout",
     "output_type": "stream",
     "text": [
      "epoch_loss 0.05759120881557465\n",
      "Done training epoch 11/20\n",
      "epoch_loss 0.057286772131919864\n",
      "Done training epoch 12/20\n",
      "epoch_loss 0.05662739276885986\n",
      "Done training epoch 13/20\n",
      "epoch_loss 0.05619492903351784\n",
      "Done training epoch 14/20\n",
      "epoch_loss 0.05546807870268822\n",
      "Done training epoch 15/20\n",
      "epoch_loss 0.0560269296169281\n",
      "Done training epoch 16/20\n",
      "epoch_loss 0.05597405731678009\n",
      "Done training epoch 17/20\n",
      "epoch_loss 0.05601408034563064\n",
      "Done training epoch 18/20\n",
      "epoch_loss 0.055226026475429534\n",
      "Done training epoch 19/20\n",
      "epoch_loss 0.054202257096767424\n",
      "Done training epoch 20/20\n",
      "saved ('models/tmp/gmm_grid/model_043201be097ba679_20.pt', 'models/tmp/gmm_grid/parameters_043201be097ba679.pt', 'models/tmp/gmm_grid/eval_043201be097ba679.pt')\n",
      "evaluating model\n"
     ]
    },
    {
     "name": "stderr",
     "output_type": "stream",
     "text": [
      "100%|█████████████████████████████████████████████████████████████████████████████████████████████████████████████████████████████████████████| 100/100 [00:00<00:00, 239.89it/s]\n"
     ]
    },
    {
     "name": "stdout",
     "output_type": "stream",
     "text": [
      "wasserstein\n",
      "wasserstein: 1.1181773549117775\n",
      "\tlosses_batch = 0.053815100342035294\n",
      "\twass = 1.1181773549117775\n",
      "\tmmd = 0.1867293417453766\n",
      "\tprecision = 0.6131025361955231\n",
      "\trecall = 0.9645364379864395\n",
      "\tdensity = 0.0\n",
      "\tcoverage = 0.0\n",
      "\tfid = 0.0\n",
      "\tf_1_pr = 0.7496768855993987\n",
      "\tf_1_dc = 0.0\n",
      "\tfig = None\n"
     ]
    }
   ],
   "source": [
    "exp.run(progress=False, max_batch_per_epoch=10)"
   ]
  }
 ],
 "metadata": {
  "kernelspec": {
   "display_name": "Python 3 (ipykernel)",
   "language": "python",
   "name": "python3"
  },
  "language_info": {
   "codemirror_mode": {
    "name": "ipython",
    "version": 3
   },
   "file_extension": ".py",
   "mimetype": "text/x-python",
   "name": "python",
   "nbconvert_exporter": "python",
   "pygments_lexer": "ipython3",
   "version": "3.11.5"
  }
 },
 "nbformat": 4,
 "nbformat_minor": 2
}
